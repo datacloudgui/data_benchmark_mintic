{
 "cells": [
  {
   "cell_type": "markdown",
   "metadata": {},
   "source": [
    "#Benchmark of Ministry of Information Technologies and Communications \"100 Mil programadores\" program\n",
    "\n",
    "Data about the \"100 mil programadores\" program, each row is a students or an applicant.\n",
    "\n",
    "Details of the data can be readed in [Misión TIC 100 mil programadores](https://www.datos.gov.co/Ciencia-Tecnolog-a-e-Innovaci-n/Misi-n-TIC-2020-100-mil-programadores/2emd-i46m)"
   ]
  },
  {
   "cell_type": "markdown",
   "metadata": {},
   "source": [
    "- Import the libraries to make the benchmark"
   ]
  },
  {
   "cell_type": "code",
   "execution_count": 3,
   "metadata": {},
   "outputs": [],
   "source": [
    "import requests\n",
    "import pandas as pd"
   ]
  },
  {
   "cell_type": "markdown",
   "metadata": {},
   "source": [
    "- Setup and download data\n",
    "\n",
    "Set \"download_data\" to True if you want download the data from [Datos Gov](www.datos.gov.co) page directly.\n",
    "\n",
    "The URL contain the query param to get all the data using the Socrata API (SODA API).\n",
    "Details about the use of that API can be viewed in:\n",
    "\n",
    "[SODA endpoints](https://dev.socrata.com/docs/endpoints.html)\n",
    "[SODA Pagination](https://dev.socrata.com/docs/paging.html)"
   ]
  },
  {
   "cell_type": "code",
   "execution_count": 22,
   "metadata": {
    "tags": []
   },
   "outputs": [
    {
     "data": {
      "text/plain": [
       "(134563, 15)"
      ]
     },
     "execution_count": 22,
     "metadata": {},
     "output_type": "execute_result"
    }
   ],
   "source": [
    "url_mintic2020_100mil = \"https://www.datos.gov.co/resource/2emd-i46m.json?$limit=135000\"\n",
    "download_data = False\n",
    "\n",
    "if download_data:\n",
    "    response = requests.get(url = url_mintic2020_100mil)\n",
    "\n",
    "    #TODO manage error\n",
    "\n",
    "    data = response.json()\n",
    "\n",
    "    #Load df as \"colums\"\n",
    "    df = pd.DataFrame.from_records(data)\n",
    "\n",
    "    df.to_csv(r'/home/guille/codes/github/data_benchmark_mintic/raw_data.csv', index = False)\n",
    "    \n",
    "else:\n",
    "\n",
    "    df = pd.read_csv(\"./raw_data.csv\")\n",
    "\n",
    "df.head()\n",
    "df.shape"
   ]
  },
  {
   "cell_type": "code",
   "execution_count": null,
   "metadata": {},
   "outputs": [],
   "source": []
  }
 ],
 "metadata": {
  "kernelspec": {
   "display_name": "Python 3",
   "language": "python",
   "name": "python3"
  },
  "language_info": {
   "codemirror_mode": {
    "name": "ipython",
    "version": 3
   },
   "file_extension": ".py",
   "mimetype": "text/x-python",
   "name": "python",
   "nbconvert_exporter": "python",
   "pygments_lexer": "ipython3",
   "version": "3.8.0"
  }
 },
 "nbformat": 4,
 "nbformat_minor": 2
}
