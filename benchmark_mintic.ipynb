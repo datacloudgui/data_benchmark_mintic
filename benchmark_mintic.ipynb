{
 "cells": [
  {
   "cell_type": "markdown",
   "metadata": {},
   "source": [
    "#Benchmark of Ministry of Information Technologies and Communications \"100 Mil programadores\" program\n",
    "\n",
    "Data about the \"100 mil programadores\" program, each row is a students or an applicant.\n",
    "\n",
    "Details of the data can be readed in [Misión TIC 100 mil programadores](https://www.datos.gov.co/Ciencia-Tecnolog-a-e-Innovaci-n/Misi-n-TIC-2020-100-mil-programadores/2emd-i46m)"
   ]
  },
  {
   "cell_type": "markdown",
   "metadata": {},
   "source": [
    "- Import the libraries to make the benchmark"
   ]
  },
  {
   "cell_type": "code",
   "execution_count": 5,
   "metadata": {},
   "outputs": [],
   "source": [
    "import requests\n",
    "import pandas as pd\n",
    "from fastparquet import write"
   ]
  },
  {
   "cell_type": "markdown",
   "metadata": {},
   "source": [
    "- Setup and download data\n",
    "\n",
    "Set \"download_data\" to True if you want download the data from [Datos Gov](www.datos.gov.co) page directly.\n",
    "\n",
    "The URL contain the query param to get all the data using the Socrata API (SODA API).\n",
    "Details about the use of that API can be viewed in:\n",
    "\n",
    "[SODA endpoints](https://dev.socrata.com/docs/endpoints.html)\n",
    "[SODA Pagination](https://dev.socrata.com/docs/paging.html)"
   ]
  },
  {
   "cell_type": "code",
   "execution_count": 4,
   "metadata": {
    "tags": []
   },
   "outputs": [
    {
     "data": {
      "text/plain": [
       "(134563, 15)"
      ]
     },
     "execution_count": 4,
     "metadata": {},
     "output_type": "execute_result"
    }
   ],
   "source": [
    "url_mintic2020_100mil = \"https://www.datos.gov.co/resource/2emd-i46m.json?$limit=135000\"\n",
    "download_data = False\n",
    "\n",
    "if download_data:\n",
    "    response = requests.get(url = url_mintic2020_100mil)\n",
    "\n",
    "    #TODO manage error\n",
    "\n",
    "    data = response.json()\n",
    "\n",
    "    #Load df as \"colums\"\n",
    "    df = pd.DataFrame.from_records(data)\n",
    "\n",
    "    df.to_csv(r'/home/guille/codes/github/data_benchmark_mintic/raw_data.csv', index = False)\n",
    "    \n",
    "else:\n",
    "\n",
    "    df = pd.read_csv(\"./raw_data.csv\")\n",
    "\n",
    "df.head()\n",
    "df.shape"
   ]
  },
  {
   "cell_type": "code",
   "execution_count": 6,
   "metadata": {},
   "outputs": [],
   "source": [
    "write(\"./data_mintic.parquet\", df)"
   ]
  },
  {
   "cell_type": "code",
   "execution_count": 7,
   "metadata": {},
   "outputs": [
    {
     "data": {
      "text/html": [
       "<div>\n",
       "<style scoped>\n",
       "    .dataframe tbody tr th:only-of-type {\n",
       "        vertical-align: middle;\n",
       "    }\n",
       "\n",
       "    .dataframe tbody tr th {\n",
       "        vertical-align: top;\n",
       "    }\n",
       "\n",
       "    .dataframe thead th {\n",
       "        text-align: right;\n",
       "    }\n",
       "</style>\n",
       "<table border=\"1\" class=\"dataframe\">\n",
       "  <thead>\n",
       "    <tr style=\"text-align: right;\">\n",
       "      <th></th>\n",
       "      <th>convocatoria</th>\n",
       "      <th>estrato_social</th>\n",
       "      <th>edad</th>\n",
       "      <th>grado</th>\n",
       "      <th>meta_beneficiario</th>\n",
       "      <th>inversion</th>\n",
       "      <th>meta_dinero</th>\n",
       "    </tr>\n",
       "  </thead>\n",
       "  <tbody>\n",
       "    <tr>\n",
       "      <th>count</th>\n",
       "      <td>134563.0</td>\n",
       "      <td>134563.000000</td>\n",
       "      <td>134563.000000</td>\n",
       "      <td>134563.000000</td>\n",
       "      <td>134563.0</td>\n",
       "      <td>134563.0</td>\n",
       "      <td>1.345630e+05</td>\n",
       "    </tr>\n",
       "    <tr>\n",
       "      <th>mean</th>\n",
       "      <td>1.0</td>\n",
       "      <td>2.314522</td>\n",
       "      <td>28.955976</td>\n",
       "      <td>0.184456</td>\n",
       "      <td>5623.0</td>\n",
       "      <td>946611.0</td>\n",
       "      <td>5.322792e+09</td>\n",
       "    </tr>\n",
       "    <tr>\n",
       "      <th>std</th>\n",
       "      <td>0.0</td>\n",
       "      <td>0.960925</td>\n",
       "      <td>12.227239</td>\n",
       "      <td>3.440404</td>\n",
       "      <td>0.0</td>\n",
       "      <td>0.0</td>\n",
       "      <td>0.000000e+00</td>\n",
       "    </tr>\n",
       "    <tr>\n",
       "      <th>min</th>\n",
       "      <td>1.0</td>\n",
       "      <td>0.000000</td>\n",
       "      <td>0.000000</td>\n",
       "      <td>-1.000000</td>\n",
       "      <td>5623.0</td>\n",
       "      <td>946611.0</td>\n",
       "      <td>5.322792e+09</td>\n",
       "    </tr>\n",
       "    <tr>\n",
       "      <th>25%</th>\n",
       "      <td>1.0</td>\n",
       "      <td>2.000000</td>\n",
       "      <td>21.000000</td>\n",
       "      <td>-1.000000</td>\n",
       "      <td>5623.0</td>\n",
       "      <td>946611.0</td>\n",
       "      <td>5.322792e+09</td>\n",
       "    </tr>\n",
       "    <tr>\n",
       "      <th>50%</th>\n",
       "      <td>1.0</td>\n",
       "      <td>2.000000</td>\n",
       "      <td>27.000000</td>\n",
       "      <td>-1.000000</td>\n",
       "      <td>5623.0</td>\n",
       "      <td>946611.0</td>\n",
       "      <td>5.322792e+09</td>\n",
       "    </tr>\n",
       "    <tr>\n",
       "      <th>75%</th>\n",
       "      <td>1.0</td>\n",
       "      <td>3.000000</td>\n",
       "      <td>36.000000</td>\n",
       "      <td>-1.000000</td>\n",
       "      <td>5623.0</td>\n",
       "      <td>946611.0</td>\n",
       "      <td>5.322792e+09</td>\n",
       "    </tr>\n",
       "    <tr>\n",
       "      <th>max</th>\n",
       "      <td>1.0</td>\n",
       "      <td>6.000000</td>\n",
       "      <td>120.000000</td>\n",
       "      <td>11.000000</td>\n",
       "      <td>5623.0</td>\n",
       "      <td>946611.0</td>\n",
       "      <td>5.322792e+09</td>\n",
       "    </tr>\n",
       "  </tbody>\n",
       "</table>\n",
       "</div>"
      ],
      "text/plain": [
       "       convocatoria  estrato_social           edad          grado  \\\n",
       "count      134563.0   134563.000000  134563.000000  134563.000000   \n",
       "mean            1.0        2.314522      28.955976       0.184456   \n",
       "std             0.0        0.960925      12.227239       3.440404   \n",
       "min             1.0        0.000000       0.000000      -1.000000   \n",
       "25%             1.0        2.000000      21.000000      -1.000000   \n",
       "50%             1.0        2.000000      27.000000      -1.000000   \n",
       "75%             1.0        3.000000      36.000000      -1.000000   \n",
       "max             1.0        6.000000     120.000000      11.000000   \n",
       "\n",
       "       meta_beneficiario  inversion   meta_dinero  \n",
       "count           134563.0   134563.0  1.345630e+05  \n",
       "mean              5623.0   946611.0  5.322792e+09  \n",
       "std                  0.0        0.0  0.000000e+00  \n",
       "min               5623.0   946611.0  5.322792e+09  \n",
       "25%               5623.0   946611.0  5.322792e+09  \n",
       "50%               5623.0   946611.0  5.322792e+09  \n",
       "75%               5623.0   946611.0  5.322792e+09  \n",
       "max               5623.0   946611.0  5.322792e+09  "
      ]
     },
     "execution_count": 7,
     "metadata": {},
     "output_type": "execute_result"
    }
   ],
   "source": [
    "df.describe()"
   ]
  },
  {
   "cell_type": "code",
   "execution_count": 8,
   "metadata": {},
   "outputs": [
    {
     "data": {
      "text/plain": [
       "Index(['fecha_corte', 'departame_nombre', 'municipio_nombre',\n",
       "       'estado_formacion', 'estados', 'convocatoria', 'estrato_social', 'edad',\n",
       "       'genero', 'ruta', 'grado', 'meta_beneficiario', 'inversion',\n",
       "       'meta_dinero', 'fecha_vigencia'],\n",
       "      dtype='object')"
      ]
     },
     "execution_count": 8,
     "metadata": {},
     "output_type": "execute_result"
    }
   ],
   "source": [
    "df.columns"
   ]
  },
  {
   "cell_type": "code",
   "execution_count": null,
   "metadata": {},
   "outputs": [],
   "source": []
  }
 ],
 "metadata": {
  "kernelspec": {
   "display_name": "Python 3",
   "language": "python",
   "name": "python3"
  },
  "language_info": {
   "codemirror_mode": {
    "name": "ipython",
    "version": 3
   },
   "file_extension": ".py",
   "mimetype": "text/x-python",
   "name": "python",
   "nbconvert_exporter": "python",
   "pygments_lexer": "ipython3",
   "version": "3.8.0"
  }
 },
 "nbformat": 4,
 "nbformat_minor": 2
}
