{
 "cells": [
  {
   "cell_type": "markdown",
   "metadata": {},
   "source": [
    "# Benchmark of data files with the Ministry of Information Technologies and Communications \"100 Mil programadores\" data.\n",
    "\n",
    "Data about the \"100 mil programadores\" program, each row is a students or an applicant.\n",
    "\n",
    "Details of the data can be readed in [Misión TIC 100 mil programadores](https://www.datos.gov.co/Ciencia-Tecnolog-a-e-Innovaci-n/Misi-n-TIC-2020-100-mil-programadores/2emd-i46m)"
   ]
  },
  {
   "cell_type": "markdown",
   "metadata": {},
   "source": [
    "- Import the libraries to make the benchmark"
   ]
  },
  {
   "cell_type": "code",
   "execution_count": 42,
   "metadata": {},
   "outputs": [],
   "source": [
    "#General imports\n",
    "import requests\n",
    "import json\n",
    "import timeit\n",
    "import os\n",
    "import random\n",
    "\n",
    "#Parquet imports\n",
    "import pyarrow as pa\n",
    "import pyarrow.parquet as pq\n",
    "import pyarrow.compute as pc\n",
    "\n",
    "#Data management imports\n",
    "import pandas as pd\n",
    "import seaborn as sns\n",
    "import matplotlib.pyplot as plt"
   ]
  },
  {
   "cell_type": "markdown",
   "metadata": {},
   "source": [
    "- Setup and download data\n",
    "\n",
    "Set \"download_data\" to True if you want download the data from [Datos Gov](www.datos.gov.co) page directly.\n",
    "\n",
    "The URL contain the query param to get all the data using the Socrata API (SODA API).\n",
    "Details about the use of that API can be viewed in:\n",
    "\n",
    "[SODA endpoints](https://dev.socrata.com/docs/endpoints.html)\n",
    "[SODA Pagination](https://dev.socrata.com/docs/paging.html)"
   ]
  },
  {
   "cell_type": "code",
   "execution_count": 44,
   "metadata": {
    "tags": []
   },
   "outputs": [],
   "source": [
    "url_mintic2020_100mil = \"https://www.datos.gov.co/resource/2emd-i46m.json?$limit=135000\"\n",
    "\n",
    "response = requests.get(url = url_mintic2020_100mil)\n",
    "\n",
    "if response.status_code != 200:\n",
    "    print('An error was founded, try again')\n",
    "else:\n",
    "    data = response.json()"
   ]
  },
  {
   "cell_type": "markdown",
   "metadata": {},
   "source": [
    "Define auxiliary functions to store and analyze data."
   ]
  },
  {
   "cell_type": "code",
   "execution_count": 88,
   "metadata": {},
   "outputs": [],
   "source": [
    "def store_results(json_value, df_value, parquet_value):\n",
    "  results = {\n",
    "  \"json\" : json_value,\n",
    "  \"df-pickle\": df_value,\n",
    "  \"parquet\": parquet_value,\n",
    "  }\n",
    "  return results\n",
    "\n",
    "def analyze_dict(dict):\n",
    "  max_size = max(dict, key=dict.get)\n",
    "  min_size = min(dict, key=dict.get)\n",
    "  percentage= 100 - (dict[min_size]*100/dict[max_size])\n",
    "  return max_size, min_size, percentage\n",
    "\n",
    "def plot_dict(data, label_x, label_y, title):\n",
    "  keys = list(data.keys())\n",
    "  vals = [float(data[k]) for k in keys]\n",
    "  fig = sns.barplot(x=keys, y=vals)\n",
    "  fig.set(xlabel=label_x, ylabel=label_y, title=title)\n",
    "  plt.show()"
   ]
  },
  {
   "cell_type": "markdown",
   "metadata": {},
   "source": [
    "## Save the data"
   ]
  },
  {
   "cell_type": "markdown",
   "metadata": {},
   "source": [
    "Function declaration for each file"
   ]
  },
  {
   "cell_type": "code",
   "execution_count": 45,
   "metadata": {},
   "outputs": [
    {
     "data": {
      "text/plain": [
       "(134563, 15)"
      ]
     },
     "execution_count": 45,
     "metadata": {},
     "output_type": "execute_result"
    }
   ],
   "source": [
    "#Load df as \"colums\"\n",
    "df = pd.DataFrame.from_records(data)\n",
    "df.shape"
   ]
  },
  {
   "cell_type": "code",
   "execution_count": 46,
   "metadata": {},
   "outputs": [],
   "source": [
    "def save_json(data):\n",
    "    with open('./raw_data.json', 'w') as f:\n",
    "        json.dump(data, f)\n",
    "        \n",
    "def save_df(df):\n",
    "    df.to_pickle(\"./raw_data.pkl\")\n",
    "    \n",
    "def save_parquet(df):\n",
    "    table = pa.Table.from_pandas(df)\n",
    "    pq.write_table(table, './data_mintic.parquet')"
   ]
  },
  {
   "cell_type": "code",
   "execution_count": 52,
   "metadata": {},
   "outputs": [
    {
     "name": "stdout",
     "output_type": "stream",
     "text": [
      "2.3 s ± 177 ms per loop (mean ± std. dev. of 7 runs, 1 loop each)\n"
     ]
    },
    {
     "data": {
      "text/plain": [
       "<TimeitResult : 2.3 s ± 177 ms per loop (mean ± std. dev. of 7 runs, 1 loop each)>"
      ]
     },
     "execution_count": 52,
     "metadata": {},
     "output_type": "execute_result"
    }
   ],
   "source": [
    "%%timeit -o\n",
    "save_json(data)"
   ]
  },
  {
   "cell_type": "code",
   "execution_count": 55,
   "metadata": {},
   "outputs": [
    {
     "name": "stdout",
     "output_type": "stream",
     "text": [
      "2.3019347349992523\n"
     ]
    }
   ],
   "source": [
    "time_save_json = _\n",
    "print(time_save_json.average)"
   ]
  },
  {
   "cell_type": "code",
   "execution_count": 56,
   "metadata": {},
   "outputs": [
    {
     "name": "stdout",
     "output_type": "stream",
     "text": [
      "754 ms ± 9.43 ms per loop (mean ± std. dev. of 7 runs, 1 loop each)\n"
     ]
    },
    {
     "data": {
      "text/plain": [
       "<TimeitResult : 754 ms ± 9.43 ms per loop (mean ± std. dev. of 7 runs, 1 loop each)>"
      ]
     },
     "execution_count": 56,
     "metadata": {},
     "output_type": "execute_result"
    }
   ],
   "source": [
    "%%timeit -o\n",
    "save_df(df)"
   ]
  },
  {
   "cell_type": "code",
   "execution_count": 57,
   "metadata": {},
   "outputs": [
    {
     "name": "stdout",
     "output_type": "stream",
     "text": [
      "0.7540899988546569\n"
     ]
    }
   ],
   "source": [
    "time_save_df = _\n",
    "print(time_save_df.average)"
   ]
  },
  {
   "cell_type": "code",
   "execution_count": 58,
   "metadata": {},
   "outputs": [
    {
     "name": "stdout",
     "output_type": "stream",
     "text": [
      "250 ms ± 7.06 ms per loop (mean ± std. dev. of 7 runs, 1 loop each)\n"
     ]
    },
    {
     "data": {
      "text/plain": [
       "<TimeitResult : 250 ms ± 7.06 ms per loop (mean ± std. dev. of 7 runs, 1 loop each)>"
      ]
     },
     "execution_count": 58,
     "metadata": {},
     "output_type": "execute_result"
    }
   ],
   "source": [
    "%%timeit -o\n",
    "save_parquet(df)"
   ]
  },
  {
   "cell_type": "code",
   "execution_count": 59,
   "metadata": {},
   "outputs": [
    {
     "name": "stdout",
     "output_type": "stream",
     "text": [
      "0.25026300628295367\n"
     ]
    }
   ],
   "source": [
    "time_save_parquet = _\n",
    "print(time_save_parquet.average)"
   ]
  },
  {
   "cell_type": "code",
   "execution_count": 89,
   "metadata": {},
   "outputs": [],
   "source": [
    "times = store_results(time_save_json.average,time_save_df.average,time_save_parquet.average)\n",
    "max_time, min_time, percentage_time = analyze_dict(times)"
   ]
  },
  {
   "cell_type": "code",
   "execution_count": 90,
   "metadata": {},
   "outputs": [
    {
     "data": {
      "image/png": "[encoded data removed]",
      "text/plain": [
       "<Figure size 432x288 with 1 Axes>"
      ]
     },
     "metadata": {
      "needs_background": "light"
     },
     "output_type": "display_data"
    }
   ],
   "source": [
    "plot_dict(times,\"file format\", \"time (s)\", \"Time to save file\")"
   ]
  },
  {
   "cell_type": "code",
   "execution_count": 91,
   "metadata": {},
   "outputs": [
    {
     "name": "stdout",
     "output_type": "stream",
     "text": [
      "The parquet format is 89.13% faster than the json format.\n"
     ]
    }
   ],
   "source": [
    "print(f'The {min_time} format is {\"{:.2f}\".format(percentage_time)}% faster than the {max_time} format.')"
   ]
  },
  {
   "cell_type": "markdown",
   "metadata": {},
   "source": [
    "## Read file"
   ]
  },
  {
   "cell_type": "code",
   "execution_count": 64,
   "metadata": {},
   "outputs": [],
   "source": [
    "def read_json():\n",
    "    with open('raw_data.json') as f:\n",
    "        json_data = json.load(f)\n",
    "    return json_data"
   ]
  },
  {
   "cell_type": "code",
   "execution_count": 66,
   "metadata": {},
   "outputs": [
    {
     "name": "stdout",
     "output_type": "stream",
     "text": [
      "615 ms ± 37.1 ms per loop (mean ± std. dev. of 7 runs, 1 loop each)\n"
     ]
    },
    {
     "data": {
      "text/plain": [
       "<TimeitResult : 615 ms ± 37.1 ms per loop (mean ± std. dev. of 7 runs, 1 loop each)>"
      ]
     },
     "execution_count": 66,
     "metadata": {},
     "output_type": "execute_result"
    }
   ],
   "source": [
    "%%timeit -o\n",
    "read_json()"
   ]
  },
  {
   "cell_type": "code",
   "execution_count": 67,
   "metadata": {},
   "outputs": [
    {
     "name": "stdout",
     "output_type": "stream",
     "text": [
      "0.6153517188566704\n"
     ]
    }
   ],
   "source": [
    "time_read_json = _\n",
    "print(time_read_json.average)"
   ]
  },
  {
   "cell_type": "code",
   "execution_count": 68,
   "metadata": {},
   "outputs": [
    {
     "name": "stdout",
     "output_type": "stream",
     "text": [
      "279 ms ± 15.4 ms per loop (mean ± std. dev. of 7 runs, 1 loop each)\n"
     ]
    },
    {
     "data": {
      "text/plain": [
       "<TimeitResult : 279 ms ± 15.4 ms per loop (mean ± std. dev. of 7 runs, 1 loop each)>"
      ]
     },
     "execution_count": 68,
     "metadata": {},
     "output_type": "execute_result"
    }
   ],
   "source": [
    "%%timeit -o\n",
    "pd.read_pickle(\"./raw_data.pkl\")"
   ]
  },
  {
   "cell_type": "code",
   "execution_count": 72,
   "metadata": {},
   "outputs": [
    {
     "name": "stdout",
     "output_type": "stream",
     "text": [
      "0.27906008571153507\n"
     ]
    }
   ],
   "source": [
    "time_read_pickle = _\n",
    "print(time_read_pickle.average)"
   ]
  },
  {
   "cell_type": "code",
   "execution_count": 73,
   "metadata": {},
   "outputs": [
    {
     "name": "stdout",
     "output_type": "stream",
     "text": [
      "22.9 ms ± 2.84 ms per loop (mean ± std. dev. of 7 runs, 10 loops each)\n"
     ]
    },
    {
     "data": {
      "text/plain": [
       "<TimeitResult : 22.9 ms ± 2.84 ms per loop (mean ± std. dev. of 7 runs, 10 loops each)>"
      ]
     },
     "execution_count": 73,
     "metadata": {},
     "output_type": "execute_result"
    }
   ],
   "source": [
    "%%timeit -o\n",
    "pq.read_table('./data_mintic.parquet')"
   ]
  },
  {
   "cell_type": "code",
   "execution_count": 74,
   "metadata": {},
   "outputs": [
    {
     "name": "stdout",
     "output_type": "stream",
     "text": [
      "0.0228554441853443\n"
     ]
    }
   ],
   "source": [
    "time_read_parquet = _\n",
    "print(time_read_parquet.average)"
   ]
  },
  {
   "cell_type": "code",
   "execution_count": 92,
   "metadata": {},
   "outputs": [],
   "source": [
    "times_read = store_results(time_read_json.average*1000,time_read_pickle.average*1000,time_read_parquet.average*1000)\n",
    "max_time_read, min_time_read, percentage_time_read = analyze_dict(times_read)"
   ]
  },
  {
   "cell_type": "code",
   "execution_count": 93,
   "metadata": {},
   "outputs": [
    {
     "data": {
      "image/png": "[encoded data removed]",
      "text/plain": [
       "<Figure size 432x288 with 1 Axes>"
      ]
     },
     "metadata": {
      "needs_background": "light"
     },
     "output_type": "display_data"
    }
   ],
   "source": [
    "plot_dict(times_read,\"file format\", \"time (ms)\", \"Time to read file\")"
   ]
  },
  {
   "cell_type": "code",
   "execution_count": 94,
   "metadata": {},
   "outputs": [
    {
     "name": "stdout",
     "output_type": "stream",
     "text": [
      "The parquet format is 96.29% faster than the json format.\n"
     ]
    }
   ],
   "source": [
    "print(f'The {min_time_read} format is {\"{:.2f}\".format(percentage_time_read)}% faster than the {max_time_read} format.')"
   ]
  },
  {
   "cell_type": "markdown",
   "metadata": {},
   "source": [
    "## Compare file sizes"
   ]
  },
  {
   "cell_type": "code",
   "execution_count": 83,
   "metadata": {},
   "outputs": [
    {
     "name": "stdout",
     "output_type": "stream",
     "text": [
      "Size of the files are: 48.98 MB for json file,       18.57 MB for pkl file and       0.30 MB for parquet file.\n"
     ]
    }
   ],
   "source": [
    "size_json = os.path.getsize('./raw_data.json')\n",
    "size_pkl = os.path.getsize('./raw_data.pkl') \n",
    "size_parquet = os.path.getsize('./data_mintic.parquet')\n",
    "print(f'Size of the files are: {\"{:.2f}\".format(size_json/(1024*1024))} MB for json file, \\\n",
    "      {\"{:.2f}\".format(size_pkl/(1024*1024))} MB for pkl file and \\\n",
    "      {\"{:.2f}\".format(size_parquet/(1024*1024))} MB for parquet file.')"
   ]
  },
  {
   "cell_type": "code",
   "execution_count": 95,
   "metadata": {},
   "outputs": [],
   "source": [
    "file_size = store_results(size_json/(1024*1024),size_pkl/(1024*1024),size_parquet/(1024*1024))\n",
    "max_size, min_size, percentage_size = analyze_dict(file_size)"
   ]
  },
  {
   "cell_type": "code",
   "execution_count": 96,
   "metadata": {},
   "outputs": [
    {
     "data": {
      "image/png": "[encoded data removed]",
      "text/plain": [
       "<Figure size 432x288 with 1 Axes>"
      ]
     },
     "metadata": {
      "needs_background": "light"
     },
     "output_type": "display_data"
    }
   ],
   "source": [
    "plot_dict(file_size,\"file format\", \"size (MB)\", \"Size of the file\")"
   ]
  },
  {
   "cell_type": "code",
   "execution_count": 119,
   "metadata": {},
   "outputs": [
    {
     "name": "stdout",
     "output_type": "stream",
     "text": [
      "The parquet format is 99.39% lighter than the json format.\n"
     ]
    }
   ],
   "source": [
    "print(f'The {min_size} format is {\"{:.2f}\".format(percentage_size)}% lighter than the {max_size} format.')"
   ]
  },
  {
   "cell_type": "markdown",
   "metadata": {},
   "source": [
    "# Number of rows"
   ]
  },
  {
   "cell_type": "markdown",
   "metadata": {},
   "source": [
    "In order to perform operations over the data. The following aproach are taken:\n",
    "- Operate over the python list for json data (Search over the .json is not a practical aproach and will take more time)\n",
    "- Operate over the pandas dataframe for .pkl file.\n",
    "- Operate ever a pyarrow table for .parquet file."
   ]
  },
  {
   "cell_type": "code",
   "execution_count": 98,
   "metadata": {},
   "outputs": [],
   "source": [
    "json_data = read_json()\n",
    "df_data = pd.read_pickle(\"./raw_data.pkl\")\n",
    "parquet_data = pq.read_table('./data_mintic.parquet')"
   ]
  },
  {
   "cell_type": "code",
   "execution_count": 99,
   "metadata": {},
   "outputs": [
    {
     "name": "stdout",
     "output_type": "stream",
     "text": [
      "71.7 ns ± 5.13 ns per loop (mean ± std. dev. of 7 runs, 10000000 loops each)\n"
     ]
    },
    {
     "data": {
      "text/plain": [
       "<TimeitResult : 71.7 ns ± 5.13 ns per loop (mean ± std. dev. of 7 runs, 10000000 loops each)>"
      ]
     },
     "execution_count": 99,
     "metadata": {},
     "output_type": "execute_result"
    }
   ],
   "source": [
    "%%timeit -o\n",
    "len(json_data)"
   ]
  },
  {
   "cell_type": "code",
   "execution_count": 100,
   "metadata": {},
   "outputs": [
    {
     "name": "stdout",
     "output_type": "stream",
     "text": [
      "7.174899344265993e-08\n"
     ]
    }
   ],
   "source": [
    "time_row_json = _\n",
    "print(time_row_json.average)"
   ]
  },
  {
   "cell_type": "code",
   "execution_count": 103,
   "metadata": {},
   "outputs": [
    {
     "name": "stdout",
     "output_type": "stream",
     "text": [
      "822 ns ± 34.5 ns per loop (mean ± std. dev. of 7 runs, 1000000 loops each)\n"
     ]
    },
    {
     "data": {
      "text/plain": [
       "<TimeitResult : 822 ns ± 34.5 ns per loop (mean ± std. dev. of 7 runs, 1000000 loops each)>"
      ]
     },
     "execution_count": 103,
     "metadata": {},
     "output_type": "execute_result"
    }
   ],
   "source": [
    "%%timeit -o\n",
    "df_data.shape[0]"
   ]
  },
  {
   "cell_type": "code",
   "execution_count": 104,
   "metadata": {},
   "outputs": [
    {
     "name": "stdout",
     "output_type": "stream",
     "text": [
      "8.218416074274241e-07\n"
     ]
    }
   ],
   "source": [
    "time_row_df = _\n",
    "print(time_row_df.average)"
   ]
  },
  {
   "cell_type": "code",
   "execution_count": 113,
   "metadata": {},
   "outputs": [
    {
     "name": "stdout",
     "output_type": "stream",
     "text": [
      "49.4 ns ± 1.69 ns per loop (mean ± std. dev. of 7 runs, 10000000 loops each)\n"
     ]
    },
    {
     "data": {
      "text/plain": [
       "<TimeitResult : 49.4 ns ± 1.69 ns per loop (mean ± std. dev. of 7 runs, 10000000 loops each)>"
      ]
     },
     "execution_count": 113,
     "metadata": {},
     "output_type": "execute_result"
    }
   ],
   "source": [
    "%%timeit -o\n",
    "parquet_data.num_rows"
   ]
  },
  {
   "cell_type": "code",
   "execution_count": 114,
   "metadata": {},
   "outputs": [
    {
     "name": "stdout",
     "output_type": "stream",
     "text": [
      "4.940700587155464e-08\n"
     ]
    }
   ],
   "source": [
    "time_row_parquet = _\n",
    "print(time_row_parquet.average)"
   ]
  },
  {
   "cell_type": "code",
   "execution_count": 116,
   "metadata": {},
   "outputs": [],
   "source": [
    "time_count = store_results(time_row_json.average*pow(10,9),time_row_df.average*pow(10,9),time_row_parquet.average*pow(10,9))\n",
    "max_count, min_count, percentage_count = analyze_dict(time_count)"
   ]
  },
  {
   "cell_type": "code",
   "execution_count": 117,
   "metadata": {},
   "outputs": [
    {
     "data": {
      "image/png": "[encoded data removed]",
      "text/plain": [
       "<Figure size 432x288 with 1 Axes>"
      ]
     },
     "metadata": {
      "needs_background": "light"
     },
     "output_type": "display_data"
    }
   ],
   "source": [
    "plot_dict(time_count,\"file format\", \"time count (ns)\", \"Time to count rows\")"
   ]
  },
  {
   "cell_type": "code",
   "execution_count": 118,
   "metadata": {},
   "outputs": [
    {
     "name": "stdout",
     "output_type": "stream",
     "text": [
      "The parquet format is 93.99% faster than the df-pickle format.\n"
     ]
    }
   ],
   "source": [
    "print(f'The {min_count} format is {\"{:.2f}\".format(percentage_count)}% faster than the {max_count} format.')"
   ]
  },
  {
   "cell_type": "markdown",
   "metadata": {},
   "source": [
    "# Obtain a random element"
   ]
  },
  {
   "cell_type": "code",
   "execution_count": 120,
   "metadata": {},
   "outputs": [],
   "source": [
    "random_index = random.randint(0,len(df_data))"
   ]
  },
  {
   "cell_type": "code",
   "execution_count": 122,
   "metadata": {},
   "outputs": [
    {
     "name": "stdout",
     "output_type": "stream",
     "text": [
      "47.8 ns ± 1.81 ns per loop (mean ± std. dev. of 7 runs, 10000000 loops each)\n"
     ]
    },
    {
     "data": {
      "text/plain": [
       "<TimeitResult : 47.8 ns ± 1.81 ns per loop (mean ± std. dev. of 7 runs, 10000000 loops each)>"
      ]
     },
     "execution_count": 122,
     "metadata": {},
     "output_type": "execute_result"
    }
   ],
   "source": [
    "%%timeit -o\n",
    "json_data[random_index]"
   ]
  },
  {
   "cell_type": "code",
   "execution_count": 123,
   "metadata": {},
   "outputs": [
    {
     "name": "stdout",
     "output_type": "stream",
     "text": [
      "4.775379048556455e-08\n"
     ]
    }
   ],
   "source": [
    "time_random_json = _\n",
    "print(time_random_json.average)"
   ]
  },
  {
   "cell_type": "code",
   "execution_count": 124,
   "metadata": {},
   "outputs": [
    {
     "name": "stdout",
     "output_type": "stream",
     "text": [
      "69.9 µs ± 3.9 µs per loop (mean ± std. dev. of 7 runs, 10000 loops each)\n"
     ]
    },
    {
     "data": {
      "text/plain": [
       "<TimeitResult : 69.9 µs ± 3.9 µs per loop (mean ± std. dev. of 7 runs, 10000 loops each)>"
      ]
     },
     "execution_count": 124,
     "metadata": {},
     "output_type": "execute_result"
    }
   ],
   "source": [
    "%%timeit -o\n",
    "df_data.iloc[random_index]"
   ]
  },
  {
   "cell_type": "code",
   "execution_count": 125,
   "metadata": {},
   "outputs": [
    {
     "name": "stdout",
     "output_type": "stream",
     "text": [
      "6.986971975753217e-05\n"
     ]
    }
   ],
   "source": [
    "time_random_df = _\n",
    "print(time_random_df.average)"
   ]
  },
  {
   "cell_type": "code",
   "execution_count": 126,
   "metadata": {},
   "outputs": [
    {
     "name": "stdout",
     "output_type": "stream",
     "text": [
      "68.1 µs ± 2.28 µs per loop (mean ± std. dev. of 7 runs, 10000 loops each)\n"
     ]
    },
    {
     "data": {
      "text/plain": [
       "<TimeitResult : 68.1 µs ± 2.28 µs per loop (mean ± std. dev. of 7 runs, 10000 loops each)>"
      ]
     },
     "execution_count": 126,
     "metadata": {},
     "output_type": "execute_result"
    }
   ],
   "source": [
    "%%timeit -o\n",
    "parquet_data.take([random_index])"
   ]
  },
  {
   "cell_type": "code",
   "execution_count": 127,
   "metadata": {},
   "outputs": [
    {
     "name": "stdout",
     "output_type": "stream",
     "text": [
      "6.811153211414681e-05\n"
     ]
    }
   ],
   "source": [
    "time_random_parquet = _\n",
    "print(time_random_parquet.average)"
   ]
  },
  {
   "cell_type": "code",
   "execution_count": 128,
   "metadata": {},
   "outputs": [],
   "source": [
    "time_random = store_results(time_random_json.average*pow(10,6),time_random_df.average*pow(10,6),time_random_parquet.average*pow(10,6))\n",
    "max_random, min_random, percentage_random = analyze_dict(time_random)"
   ]
  },
  {
   "cell_type": "code",
   "execution_count": 129,
   "metadata": {},
   "outputs": [
    {
     "data": {
      "image/png": "[encoded data removed]",
      "text/plain": [
       "<Figure size 432x288 with 1 Axes>"
      ]
     },
     "metadata": {
      "needs_background": "light"
     },
     "output_type": "display_data"
    }
   ],
   "source": [
    "plot_dict(time_random,\"file format\", \"time random (us)\", \"Time to find an element\")"
   ]
  },
  {
   "cell_type": "code",
   "execution_count": 130,
   "metadata": {},
   "outputs": [
    {
     "name": "stdout",
     "output_type": "stream",
     "text": [
      "The json format is 99.93% faster than the df-pickle format.\n"
     ]
    }
   ],
   "source": [
    "print(f'The {min_random} format is {\"{:.2f}\".format(percentage_random)}% faster than the {max_random} format.')"
   ]
  },
  {
   "cell_type": "markdown",
   "metadata": {},
   "source": [
    "### Comments\n",
    "\n",
    "- Parquet file is around 90% faster to save and read, that allow better usability and disponibility of the data.\n",
    "- Parquet file is a surprising 99% lighter than other formats, this provide to this format a huge advantage to store massive data in cloud systems at low cost.\n",
    "- However, to perform basic operation with the data, the standard library not provide useful functions. Libraries like Pandas are useful to manage and operate this data.\n"
   ]
  },
  {
   "cell_type": "markdown",
   "metadata": {},
   "source": [
    "## Send data to Mongo Atlas"
   ]
  },
  {
   "cell_type": "markdown",
   "metadata": {},
   "source": [
    "Setup mongodb cluster, don forget add your DATABASE_URI as an environment variable according to your connection URI. See [mongo connect to your cluster](https://docs.atlas.mongodb.com/tutorial/connect-to-your-cluster/)"
   ]
  },
  {
   "cell_type": "code",
   "execution_count": 7,
   "metadata": {},
   "outputs": [],
   "source": [
    "from pymongo import MongoClient"
   ]
  },
  {
   "cell_type": "code",
   "execution_count": 8,
   "metadata": {},
   "outputs": [],
   "source": [
    "client = MongoClient(os.environ['DATABASE_URI'])"
   ]
  },
  {
   "cell_type": "code",
   "execution_count": 9,
   "metadata": {},
   "outputs": [],
   "source": [
    "db = client['platzimaster']"
   ]
  },
  {
   "cell_type": "code",
   "execution_count": 11,
   "metadata": {},
   "outputs": [],
   "source": [
    "mintic_collection = db['mintic']"
   ]
  },
  {
   "cell_type": "markdown",
   "metadata": {},
   "source": [
    "Send the data to the mongo cluster.\n",
    "**NOTE** Due to the number of register this process can take a lot of time (hours)."
   ]
  },
  {
   "cell_type": "code",
   "execution_count": 36,
   "metadata": {},
   "outputs": [],
   "source": [
    "def insert_applicant(applicant_data):\n",
    "    \"\"\"\n",
    "    Return a boolean value of an insert operation to a mongodb collection\n",
    "    \n",
    "    Parameters:\n",
    "        applicant_data(dict): Dictionary to be stored as a BJSON in mongodb\n",
    "        \n",
    "    Returns:\n",
    "        True or False (bool) according to the result of the insert\n",
    "    \"\"\"\n",
    "    try:\n",
    "        mintic_collection.insert_one(applicant_data)\n",
    "        return True\n",
    "    except Exception as e:\n",
    "        print(\"An exception occurred ::\", e)\n",
    "        return False"
   ]
  },
  {
   "cell_type": "code",
   "execution_count": 38,
   "metadata": {},
   "outputs": [
    {
     "name": "stdout",
     "output_type": "stream",
     "text": [
      "All data sended\n"
     ]
    }
   ],
   "source": [
    "#coping the data to send\n",
    "json_data_send = list(json_data)\n",
    "\n",
    "#Loop to send all the data\n",
    "while True:\n",
    "    #List to stor the boolean results during the send process\n",
    "    result = []\n",
    "    for register in json_data_send:\n",
    "        result.append(insert_applicant(register))\n",
    "    \n",
    "    unsended_registers = result.count(False)\n",
    "    if unsended_registers == 0:\n",
    "        print(\"All data sended\")\n",
    "        break\n",
    "        \n",
    "    print(f'Unsended registers: {unsended_registers}')\n",
    "    \n",
    "    json_data_send = [json_data_send[x] for x in result if x == False]\n",
    "    \n",
    "    "
   ]
  },
  {
   "cell_type": "markdown",
   "metadata": {},
   "source": [
    "Counting the number of register"
   ]
  },
  {
   "cell_type": "code",
   "execution_count": 132,
   "metadata": {},
   "outputs": [
    {
     "name": "stdout",
     "output_type": "stream",
     "text": [
      "218 ms ± 53.6 ms per loop (mean ± std. dev. of 7 runs, 10 loops each)\n"
     ]
    }
   ],
   "source": [
    "%timeit mintic_collection.count_documents({})"
   ]
  },
  {
   "cell_type": "code",
   "execution_count": 133,
   "metadata": {},
   "outputs": [
    {
     "data": {
      "text/plain": [
       "{'_id': ObjectId('6073b32f062d953d8e6eb4e2'),\n",
       " 'fecha_corte': '2020-09-15',\n",
       " 'departame_nombre': 'TOLIMA',\n",
       " 'municipio_nombre': 'IBAGUE',\n",
       " 'estado_formacion': 'ASPIRANTE',\n",
       " 'estados': 'ASPIRANTES',\n",
       " 'convocatoria': '1',\n",
       " 'estrato_social': '3',\n",
       " 'edad': '24',\n",
       " 'genero': 'FEMENINO',\n",
       " 'ruta': 'RUTA 2',\n",
       " 'grado': '-1',\n",
       " 'meta_beneficiario': '5623',\n",
       " 'inversion': '946611',\n",
       " 'meta_dinero': '5322791851',\n",
       " 'fecha_vigencia': '2020-09-15'}"
      ]
     },
     "execution_count": 133,
     "metadata": {},
     "output_type": "execute_result"
    }
   ],
   "source": [
    "mintic_collection.find_one({})"
   ]
  },
  {
   "cell_type": "markdown",
   "metadata": {},
   "source": [
    "### Comments\n",
    "\n",
    "- MongoDB is a useful database to store Json files, allowing disponibility using cluster that can scale.\n",
    "- Manage large amounts of data require tools that optimize the time to store and manage data, such as parallel processing or asincronic process."
   ]
  }
 ],
 "metadata": {
  "kernelspec": {
   "display_name": "Python 3",
   "language": "python",
   "name": "python3"
  },
  "language_info": {
   "codemirror_mode": {
    "name": "ipython",
    "version": 3
   },
   "file_extension": ".py",
   "mimetype": "text/x-python",
   "name": "python",
   "nbconvert_exporter": "python",
   "pygments_lexer": "ipython3",
   "version": "3.8.0"
  }
 },
 "nbformat": 4,
 "nbformat_minor": 2
}
